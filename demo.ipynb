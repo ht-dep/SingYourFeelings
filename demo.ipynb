{
 "cells": [
  {
   "cell_type": "code",
   "execution_count": 1,
   "metadata": {
    "collapsed": true
   },
   "outputs": [],
   "source": [
    "import dataset"
   ]
  },
  {
   "cell_type": "code",
   "execution_count": 2,
   "metadata": {
    "collapsed": true
   },
   "outputs": [],
   "source": [
    "import pandas as pd"
   ]
  },
  {
   "cell_type": "code",
   "execution_count": 3,
   "metadata": {},
   "outputs": [
    {
     "data": {
      "text/html": [
       "<div>\n",
       "<style>\n",
       "    .dataframe thead tr:only-child th {\n",
       "        text-align: right;\n",
       "    }\n",
       "\n",
       "    .dataframe thead th {\n",
       "        text-align: left;\n",
       "    }\n",
       "\n",
       "    .dataframe tbody tr th {\n",
       "        vertical-align: top;\n",
       "    }\n",
       "</style>\n",
       "<table border=\"1\" class=\"dataframe\">\n",
       "  <thead>\n",
       "    <tr style=\"text-align: right;\">\n",
       "      <th></th>\n",
       "      <th>id</th>\n",
       "      <th>lyrics</th>\n",
       "      <th>name</th>\n",
       "      <th>note</th>\n",
       "      <th>tempo</th>\n",
       "    </tr>\n",
       "  </thead>\n",
       "  <tbody>\n",
       "    <tr>\n",
       "      <th>0</th>\n",
       "      <td>0-0</td>\n",
       "      <td>[831, 83, 353, 361, 383, 83, 1409, 130, 1126, ...</td>\n",
       "      <td>Becauseofyou</td>\n",
       "      <td>[[8742, 9014, 9462, 8352, 7992, 8806, 8352], [...</td>\n",
       "      <td>1.142858</td>\n",
       "    </tr>\n",
       "    <tr>\n",
       "      <th>1</th>\n",
       "      <td>0-1</td>\n",
       "      <td>[831, 83, 353, 361, 383, 83, 1409, 130, 1126, ...</td>\n",
       "      <td>Becauseofyou</td>\n",
       "      <td>[[5157], [10531, 10579, 9859, 8963, 10341, 941...</td>\n",
       "      <td>1.142858</td>\n",
       "    </tr>\n",
       "    <tr>\n",
       "      <th>2</th>\n",
       "      <td>0-2</td>\n",
       "      <td>[831, 83, 353, 361, 383, 83, 1409, 130, 1126, ...</td>\n",
       "      <td>Becauseofyou</td>\n",
       "      <td>[[5153], [7848], [12560, 12150, 12614, 12166, ...</td>\n",
       "      <td>1.142858</td>\n",
       "    </tr>\n",
       "    <tr>\n",
       "      <th>3</th>\n",
       "      <td>0-3</td>\n",
       "      <td>[831, 83, 353, 361, 383, 83, 1409, 130, 1126, ...</td>\n",
       "      <td>Becauseofyou</td>\n",
       "      <td>[[5158], [6056], [12106], [2472, 2548, 2296, 2...</td>\n",
       "      <td>1.142858</td>\n",
       "    </tr>\n",
       "    <tr>\n",
       "      <th>4</th>\n",
       "      <td>0-4</td>\n",
       "      <td>[831, 83, 353, 361, 383, 83, 1409, 130, 1126, ...</td>\n",
       "      <td>Becauseofyou</td>\n",
       "      <td>[[6736], [6728], [13676], [2920, 2998, 2536, 2...</td>\n",
       "      <td>1.142858</td>\n",
       "    </tr>\n",
       "  </tbody>\n",
       "</table>\n",
       "</div>"
      ],
      "text/plain": [
       "    id                                             lyrics          name  \\\n",
       "0  0-0  [831, 83, 353, 361, 383, 83, 1409, 130, 1126, ...  Becauseofyou   \n",
       "1  0-1  [831, 83, 353, 361, 383, 83, 1409, 130, 1126, ...  Becauseofyou   \n",
       "2  0-2  [831, 83, 353, 361, 383, 83, 1409, 130, 1126, ...  Becauseofyou   \n",
       "3  0-3  [831, 83, 353, 361, 383, 83, 1409, 130, 1126, ...  Becauseofyou   \n",
       "4  0-4  [831, 83, 353, 361, 383, 83, 1409, 130, 1126, ...  Becauseofyou   \n",
       "\n",
       "                                                note     tempo  \n",
       "0  [[8742, 9014, 9462, 8352, 7992, 8806, 8352], [...  1.142858  \n",
       "1  [[5157], [10531, 10579, 9859, 8963, 10341, 941...  1.142858  \n",
       "2  [[5153], [7848], [12560, 12150, 12614, 12166, ...  1.142858  \n",
       "3  [[5158], [6056], [12106], [2472, 2548, 2296, 2...  1.142858  \n",
       "4  [[6736], [6728], [13676], [2920, 2998, 2536, 2...  1.142858  "
      ]
     },
     "execution_count": 3,
     "metadata": {},
     "output_type": "execute_result"
    }
   ],
   "source": [
    "data = pd.read_json('data/valid.jsonl', lines=True)\n",
    "data.head(5)"
   ]
  },
  {
   "cell_type": "code",
   "execution_count": 4,
   "metadata": {},
   "outputs": [
    {
     "name": "stderr",
     "output_type": "stream",
     "text": [
      "/home/wrlin/SingYourFeelings/.env/lib/python3.5/site-packages/midiutil/MidiFile.py:899: FutureWarning: Please explicitly set adjust_origin. Default behaviour will change in a future version.\n",
      "  FutureWarning)\n"
     ]
    }
   ],
   "source": [
    "n = 0\n",
    "vec = data.note[n], data.tempo[n]\n",
    "midi = dataset.vec2midi(vec)"
   ]
  },
  {
   "cell_type": "code",
   "execution_count": 5,
   "metadata": {
    "collapsed": true
   },
   "outputs": [],
   "source": [
    "filename = 'test.mid'\n",
    "with open(filename, 'wb') as f:\n",
    "    midi.writeFile(f)"
   ]
  },
  {
   "cell_type": "code",
   "execution_count": 6,
   "metadata": {},
   "outputs": [
    {
     "data": {
      "text/html": [
       "<script type='text/javascript' src='//www.midijs.net/lib/midi.js'></script><button onClick=MIDIjs.stop()>Stop</button>"
      ]
     },
     "metadata": {},
     "output_type": "display_data"
    }
   ],
   "source": [
    "from IPython.display import display_html, HTML\n",
    "display_html(HTML(\"<script type='text/javascript' src='//www.midijs.net/lib/midi.js'></script>\"\n",
    "                  '<button onClick=MIDIjs.stop()>Stop</button>'))\n",
    "def play(filename):\n",
    "    display_html(HTML('<button onClick=MIDIjs.play(\"{0}\")>Play {0}</button>'.format(filename)))"
   ]
  },
  {
   "cell_type": "code",
   "execution_count": 7,
   "metadata": {
    "scrolled": true
   },
   "outputs": [
    {
     "data": {
      "text/html": [
       "<button onClick=MIDIjs.play(\"test.mid\")>Play test.mid</button>"
      ]
     },
     "metadata": {},
     "output_type": "display_data"
    },
    {
     "data": {
      "text/html": [
       "<button onClick=MIDIjs.play(\"data/raw/Becauseofyou.mid\")>Play data/raw/Becauseofyou.mid</button>"
      ]
     },
     "metadata": {},
     "output_type": "display_data"
    }
   ],
   "source": [
    "play(filename)\n",
    "play('data/raw/%s.mid' % data.name[n])"
   ]
  }
 ],
 "metadata": {
  "kernelspec": {
   "display_name": "Python SYF",
   "language": "python",
   "name": ".env"
  },
  "language_info": {
   "codemirror_mode": {
    "name": "ipython",
    "version": 3
   },
   "file_extension": ".py",
   "mimetype": "text/x-python",
   "name": "python",
   "nbconvert_exporter": "python",
   "pygments_lexer": "ipython3",
   "version": "3.5.3"
  }
 },
 "nbformat": 4,
 "nbformat_minor": 2
}
