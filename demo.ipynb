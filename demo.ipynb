{
 "cells": [
  {
   "cell_type": "code",
   "execution_count": 1,
   "metadata": {},
   "outputs": [
    {
     "name": "stdout",
     "output_type": "stream",
     "text": [
      "4537\n"
     ]
    }
   ],
   "source": [
    "import dataset"
   ]
  },
  {
   "cell_type": "code",
   "execution_count": 2,
   "metadata": {
    "collapsed": true
   },
   "outputs": [],
   "source": [
    "import pandas as pd"
   ]
  },
  {
   "cell_type": "code",
   "execution_count": 3,
   "metadata": {},
   "outputs": [
    {
     "data": {
      "text/html": [
       "<script type='text/javascript' src='//www.midijs.net/lib/midi.js'></script>"
      ]
     },
     "metadata": {},
     "output_type": "display_data"
    }
   ],
   "source": [
    "from IPython.display import display_html, HTML\n",
    "display_html(HTML(\"<script type='text/javascript' src='//www.midijs.net/lib/midi.js'></script>\"))\n",
    "def play(filename):\n",
    "    display_html(HTML('<button onClick=MIDIjs.play(\"{0}\")>Play {0}</button>'.format(filename)))"
   ]
  },
  {
   "cell_type": "code",
   "execution_count": 7,
   "metadata": {},
   "outputs": [
    {
     "data": {
      "text/html": [
       "<div>\n",
       "<style>\n",
       "    .dataframe thead tr:only-child th {\n",
       "        text-align: right;\n",
       "    }\n",
       "\n",
       "    .dataframe thead th {\n",
       "        text-align: left;\n",
       "    }\n",
       "\n",
       "    .dataframe tbody tr th {\n",
       "        vertical-align: top;\n",
       "    }\n",
       "</style>\n",
       "<table border=\"1\" class=\"dataframe\">\n",
       "  <thead>\n",
       "    <tr style=\"text-align: right;\">\n",
       "      <th></th>\n",
       "      <th>id</th>\n",
       "      <th>name</th>\n",
       "      <th>tempo</th>\n",
       "      <th>note</th>\n",
       "    </tr>\n",
       "  </thead>\n",
       "  <tbody>\n",
       "    <tr>\n",
       "      <th>164</th>\n",
       "      <td>4-0</td>\n",
       "      <td>IF</td>\n",
       "      <td>1.2</td>\n",
       "      <td>[1936, 1936, 2152, 2104, 2403, 2355, 1984, 215...</td>\n",
       "    </tr>\n",
       "    <tr>\n",
       "      <th>165</th>\n",
       "      <td>4-1</td>\n",
       "      <td>IF</td>\n",
       "      <td>1.2</td>\n",
       "      <td>[1936, 2152, 3413, 2355, 2357, 3411, 1936, 235...</td>\n",
       "    </tr>\n",
       "    <tr>\n",
       "      <th>166</th>\n",
       "      <td>4-2</td>\n",
       "      <td>IF</td>\n",
       "      <td>1.2</td>\n",
       "      <td>[1936, 2152, 3413, 2355, 2357, 3411, 1936, 235...</td>\n",
       "    </tr>\n",
       "    <tr>\n",
       "      <th>167</th>\n",
       "      <td>4-3</td>\n",
       "      <td>IF</td>\n",
       "      <td>1.2</td>\n",
       "      <td>[2104, 1816, 3161, 2523, 2105, 3157, 2104, 210...</td>\n",
       "    </tr>\n",
       "    <tr>\n",
       "      <th>168</th>\n",
       "      <td>4-4</td>\n",
       "      <td>IF</td>\n",
       "      <td>1.2</td>\n",
       "      <td>[1936, 2152, 3413, 2355, 2357, 3411, 1936, 235...</td>\n",
       "    </tr>\n",
       "    <tr>\n",
       "      <th>169</th>\n",
       "      <td>4-5</td>\n",
       "      <td>IF</td>\n",
       "      <td>1.2</td>\n",
       "      <td>[1936, 2152, 3413, 2355, 2357, 3411, 1936, 235...</td>\n",
       "    </tr>\n",
       "    <tr>\n",
       "      <th>170</th>\n",
       "      <td>4-6</td>\n",
       "      <td>IF</td>\n",
       "      <td>1.2</td>\n",
       "      <td>[2104, 1816, 3161, 2523, 2105, 3157, 2104, 210...</td>\n",
       "    </tr>\n",
       "  </tbody>\n",
       "</table>\n",
       "</div>"
      ],
      "text/plain": [
       "      id name  tempo                                               note\n",
       "164  4-0   IF    1.2  [1936, 1936, 2152, 2104, 2403, 2355, 1984, 215...\n",
       "165  4-1   IF    1.2  [1936, 2152, 3413, 2355, 2357, 3411, 1936, 235...\n",
       "166  4-2   IF    1.2  [1936, 2152, 3413, 2355, 2357, 3411, 1936, 235...\n",
       "167  4-3   IF    1.2  [2104, 1816, 3161, 2523, 2105, 3157, 2104, 210...\n",
       "168  4-4   IF    1.2  [1936, 2152, 3413, 2355, 2357, 3411, 1936, 235...\n",
       "169  4-5   IF    1.2  [1936, 2152, 3413, 2355, 2357, 3411, 1936, 235...\n",
       "170  4-6   IF    1.2  [2104, 1816, 3161, 2523, 2105, 3157, 2104, 210..."
      ]
     },
     "execution_count": 7,
     "metadata": {},
     "output_type": "execute_result"
    }
   ],
   "source": [
    "data = pd.read_json('data/valid.jsonl', lines=True)\n",
    "data[data.name == 'IF'][['id', 'name', 'tempo', 'note']]"
   ]
  },
  {
   "cell_type": "code",
   "execution_count": 10,
   "metadata": {},
   "outputs": [
    {
     "name": "stderr",
     "output_type": "stream",
     "text": [
      "/home/wrlin/SingYourFeelings/.env/lib/python3.5/site-packages/midiutil/MidiFile.py:899: FutureWarning: Please explicitly set adjust_origin. Default behaviour will change in a future version.\n",
      "  FutureWarning)\n"
     ]
    }
   ],
   "source": [
    "n = 165\n",
    "vec = data.note[n], data.tempo[n]\n",
    "midi = dataset.vec2midi(vec)\n",
    "filename = 'test.mid'\n",
    "with open(filename, 'wb') as f:\n",
    "    midi.writeFile(f)"
   ]
  },
  {
   "cell_type": "code",
   "execution_count": 9,
   "metadata": {
    "scrolled": true
   },
   "outputs": [
    {
     "data": {
      "text/html": [
       "<button onClick=MIDIjs.play(\"test.mid\")>Play test.mid</button>"
      ]
     },
     "metadata": {},
     "output_type": "display_data"
    },
    {
     "data": {
      "text/html": [
       "<button onClick=MIDIjs.play(\"data/raw/IF.mid\")>Play data/raw/IF.mid</button>"
      ]
     },
     "metadata": {},
     "output_type": "display_data"
    },
    {
     "data": {
      "text/html": [
       "<button onClick=MIDIjs.stop()>Stop</button>"
      ]
     },
     "metadata": {},
     "output_type": "display_data"
    }
   ],
   "source": [
    "play(filename)\n",
    "play('data/raw/%s.mid' % data.name[n])\n",
    "display_html(HTML('<button onClick=MIDIjs.stop()>Stop</button>'))"
   ]
  },
  {
   "cell_type": "markdown",
   "metadata": {},
   "source": [
    "# Translator"
   ]
  },
  {
   "cell_type": "code",
   "execution_count": 25,
   "metadata": {},
   "outputs": [
    {
     "name": "stdout",
     "output_type": "stream",
     "text": [
      "torch.Size([1, 250])\n"
     ]
    },
    {
     "name": "stderr",
     "output_type": "stream",
     "text": [
      "/home/wrlin/SingYourFeelings/.env/lib/python3.5/site-packages/midiutil/MidiFile.py:899: FutureWarning: Please explicitly set adjust_origin. Default behaviour will change in a future version.\n",
      "  FutureWarning)\n"
     ]
    }
   ],
   "source": [
    "import model\n",
    "model.use_cuda = False\n",
    "tr = model.Translator()\n",
    "sd = model.load('model/test.para')\n",
    "tr.load_state_dict(sd)\n",
    "midi = tr.translate('路，就是一條，直直的。')"
   ]
  },
  {
   "cell_type": "code",
   "execution_count": 26,
   "metadata": {},
   "outputs": [
    {
     "name": "stderr",
     "output_type": "stream",
     "text": [
      "/home/wrlin/SingYourFeelings/.env/lib/python3.5/site-packages/midiutil/MidiFile.py:899: FutureWarning: Please explicitly set adjust_origin. Default behaviour will change in a future version.\n",
      "  FutureWarning)\n"
     ]
    }
   ],
   "source": [
    "midi = dataset.vec2midi(vec)\n",
    "filename = 'test_translate.mid'\n",
    "with open(filename, 'wb') as f:\n",
    "    midi.writeFile(f)"
   ]
  },
  {
   "cell_type": "code",
   "execution_count": 27,
   "metadata": {},
   "outputs": [
    {
     "data": {
      "text/html": [
       "<button onClick=MIDIjs.play(\"test_translate.mid\")>Play test_translate.mid</button>"
      ]
     },
     "metadata": {},
     "output_type": "display_data"
    },
    {
     "data": {
      "text/html": [
       "<button onClick=MIDIjs.stop()>Stop</button>"
      ]
     },
     "metadata": {},
     "output_type": "display_data"
    }
   ],
   "source": [
    "play(filename)\n",
    "display_html(HTML('<button onClick=MIDIjs.stop()>Stop</button>'))"
   ]
  },
  {
   "cell_type": "markdown",
   "metadata": {},
   "source": [
    "---"
   ]
  }
 ],
 "metadata": {
  "kernelspec": {
   "display_name": "Python SYF",
   "language": "python",
   "name": ".env"
  },
  "language_info": {
   "codemirror_mode": {
    "name": "ipython",
    "version": 3
   },
   "file_extension": ".py",
   "mimetype": "text/x-python",
   "name": "python",
   "nbconvert_exporter": "python",
   "pygments_lexer": "ipython3",
   "version": "3.5.3"
  }
 },
 "nbformat": 4,
 "nbformat_minor": 2
}
