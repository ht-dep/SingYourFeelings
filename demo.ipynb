{
 "cells": [
  {
   "cell_type": "code",
   "execution_count": 1,
   "metadata": {
    "collapsed": true
   },
   "outputs": [],
   "source": [
    "import dataset"
   ]
  },
  {
   "cell_type": "code",
   "execution_count": 2,
   "metadata": {
    "collapsed": true
   },
   "outputs": [],
   "source": [
    "import pandas as pd"
   ]
  },
  {
   "cell_type": "code",
   "execution_count": 3,
   "metadata": {
    "collapsed": true
   },
   "outputs": [],
   "source": [
    "data = pd.read_json('data/valid.jsonl', lines=True)"
   ]
  },
  {
   "cell_type": "code",
   "execution_count": 4,
   "metadata": {},
   "outputs": [
    {
     "data": {
      "text/html": [
       "<div>\n",
       "<style>\n",
       "    .dataframe thead tr:only-child th {\n",
       "        text-align: right;\n",
       "    }\n",
       "\n",
       "    .dataframe thead th {\n",
       "        text-align: left;\n",
       "    }\n",
       "\n",
       "    .dataframe tbody tr th {\n",
       "        vertical-align: top;\n",
       "    }\n",
       "</style>\n",
       "<table border=\"1\" class=\"dataframe\">\n",
       "  <thead>\n",
       "    <tr style=\"text-align: right;\">\n",
       "      <th></th>\n",
       "      <th>id</th>\n",
       "      <th>lyrics</th>\n",
       "      <th>name</th>\n",
       "      <th>note</th>\n",
       "      <th>tempo</th>\n",
       "    </tr>\n",
       "  </thead>\n",
       "  <tbody>\n",
       "    <tr>\n",
       "      <th>0</th>\n",
       "      <td>214-0</td>\n",
       "      <td>[3, 119, 1241, 1241, 521, 9, 105, 412, 79, 948...</td>\n",
       "      <td>心太軟</td>\n",
       "      <td>[[6032, 6590, 3505, 4555, 4170, 6863, 6585, 69...</td>\n",
       "      <td>1.27646</td>\n",
       "    </tr>\n",
       "    <tr>\n",
       "      <th>1</th>\n",
       "      <td>214-1</td>\n",
       "      <td>[3, 119, 1241, 1241, 521, 9, 105, 412, 79, 948...</td>\n",
       "      <td>心太軟</td>\n",
       "      <td>[[6702, 6473, 3622, 5803, 4226, 3503], [5330, ...</td>\n",
       "      <td>1.27646</td>\n",
       "    </tr>\n",
       "    <tr>\n",
       "      <th>2</th>\n",
       "      <td>214-2</td>\n",
       "      <td>[3, 119, 1241, 1241, 521, 9, 105, 412, 79, 948...</td>\n",
       "      <td>心太軟</td>\n",
       "      <td>[[6702], [5330, 5393, 3153, 5505, 5517, 3041, ...</td>\n",
       "      <td>1.27646</td>\n",
       "    </tr>\n",
       "    <tr>\n",
       "      <th>3</th>\n",
       "      <td>214-3</td>\n",
       "      <td>[3, 119, 1241, 1241, 521, 9, 105, 412, 79, 948...</td>\n",
       "      <td>心太軟</td>\n",
       "      <td>[[6695], [5673, 5386, 5505, 5517, 3041, 5724, ...</td>\n",
       "      <td>1.27646</td>\n",
       "    </tr>\n",
       "    <tr>\n",
       "      <th>4</th>\n",
       "      <td>214-4</td>\n",
       "      <td>[3, 119, 1241, 1241, 521, 9, 105, 412, 79, 948...</td>\n",
       "      <td>心太軟</td>\n",
       "      <td>[[4338], [5673, 5517, 3041, 5724, 5505, 5162, ...</td>\n",
       "      <td>1.27646</td>\n",
       "    </tr>\n",
       "  </tbody>\n",
       "</table>\n",
       "</div>"
      ],
      "text/plain": [
       "      id                                             lyrics name  \\\n",
       "0  214-0  [3, 119, 1241, 1241, 521, 9, 105, 412, 79, 948...  心太軟   \n",
       "1  214-1  [3, 119, 1241, 1241, 521, 9, 105, 412, 79, 948...  心太軟   \n",
       "2  214-2  [3, 119, 1241, 1241, 521, 9, 105, 412, 79, 948...  心太軟   \n",
       "3  214-3  [3, 119, 1241, 1241, 521, 9, 105, 412, 79, 948...  心太軟   \n",
       "4  214-4  [3, 119, 1241, 1241, 521, 9, 105, 412, 79, 948...  心太軟   \n",
       "\n",
       "                                                note    tempo  \n",
       "0  [[6032, 6590, 3505, 4555, 4170, 6863, 6585, 69...  1.27646  \n",
       "1  [[6702, 6473, 3622, 5803, 4226, 3503], [5330, ...  1.27646  \n",
       "2  [[6702], [5330, 5393, 3153, 5505, 5517, 3041, ...  1.27646  \n",
       "3  [[6695], [5673, 5386, 5505, 5517, 3041, 5724, ...  1.27646  \n",
       "4  [[4338], [5673, 5517, 3041, 5724, 5505, 5162, ...  1.27646  "
      ]
     },
     "execution_count": 4,
     "metadata": {},
     "output_type": "execute_result"
    }
   ],
   "source": [
    "data.head(5)"
   ]
  },
  {
   "cell_type": "code",
   "execution_count": 5,
   "metadata": {},
   "outputs": [
    {
     "name": "stderr",
     "output_type": "stream",
     "text": [
      "/home/wrlin/SingYourFeelings/.env/lib/python3.5/site-packages/midiutil/MidiFile.py:899: FutureWarning: Please explicitly set adjust_origin. Default behaviour will change in a future version.\n",
      "  FutureWarning)\n"
     ]
    }
   ],
   "source": [
    "vec = data.note[0], data.tempo[0]\n",
    "midi = dataset.vec2midi(vec)"
   ]
  },
  {
   "cell_type": "code",
   "execution_count": 6,
   "metadata": {
    "collapsed": true
   },
   "outputs": [],
   "source": [
    "filename = 'test.mid'\n",
    "with open(filename, 'wb') as f:\n",
    "    midi.writeFile(f)"
   ]
  },
  {
   "cell_type": "code",
   "execution_count": 7,
   "metadata": {},
   "outputs": [
    {
     "data": {
      "text/html": [
       "<script type='text/javascript' src='//www.midijs.net/lib/midi.js'></script><button onClick=MIDIjs.stop()>Stop</button>"
      ]
     },
     "metadata": {},
     "output_type": "display_data"
    }
   ],
   "source": [
    "from IPython.display import display_html, HTML\n",
    "display_html(HTML(\"<script type='text/javascript' src='//www.midijs.net/lib/midi.js'></script>\"\n",
    "                  '<button onClick=MIDIjs.stop()>Stop</button>'))\n",
    "def play(filename):\n",
    "    display_html(HTML('<button onClick=MIDIjs.play(\"{0}\")>Play {0}</button>'.format(filename)))"
   ]
  },
  {
   "cell_type": "code",
   "execution_count": 8,
   "metadata": {
    "scrolled": true
   },
   "outputs": [
    {
     "data": {
      "text/html": [
       "<button onClick=MIDIjs.play(\"test.mid\")>Play test.mid</button>"
      ]
     },
     "metadata": {},
     "output_type": "display_data"
    },
    {
     "data": {
      "text/html": [
       "<button onClick=MIDIjs.play(\"data/raw/心太軟.mid\")>Play data/raw/心太軟.mid</button>"
      ]
     },
     "metadata": {},
     "output_type": "display_data"
    }
   ],
   "source": [
    "play(filename)\n",
    "play('data/raw/%s.mid' % data.name[0])"
   ]
  }
 ],
 "metadata": {
  "kernelspec": {
   "display_name": "Python SYF",
   "language": "python",
   "name": ".env"
  },
  "language_info": {
   "codemirror_mode": {
    "name": "ipython",
    "version": 3
   },
   "file_extension": ".py",
   "mimetype": "text/x-python",
   "name": "python",
   "nbconvert_exporter": "python",
   "pygments_lexer": "ipython3",
   "version": "3.5.3"
  }
 },
 "nbformat": 4,
 "nbformat_minor": 2
}
