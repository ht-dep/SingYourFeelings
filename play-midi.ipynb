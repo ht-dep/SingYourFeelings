{
 "cells": [
  {
   "cell_type": "code",
   "execution_count": 43,
   "metadata": {},
   "outputs": [
    {
     "data": {
      "text/html": [
       "<script type='text/javascript' src='//www.midijs.net/lib/midi.js'></script>"
      ]
     },
     "metadata": {},
     "output_type": "display_data"
    }
   ],
   "source": [
    "from IPython.display import display_html, HTML\n",
    "display_html(HTML(\"<script type='text/javascript' src='//www.midijs.net/lib/midi.js'></script>\"))\n",
    "def play(filename):\n",
    "    display_html(HTML('<button onClick=MIDIjs.play(\"{0}\")>Play {0}</button>'.format(filename)))\n",
    "def stop():\n",
    "    display_html(HTML('<button onClick=MIDIjs.stop()>Stop</button>'))\n",
    "def download(filename):\n",
    "    display_html(HTML('<embed src={}>'.format(filename)))"
   ]
  },
  {
   "cell_type": "markdown",
   "metadata": {},
   "source": [
    "# Translator\n",
    "```\n",
    "如果想哭我自己會找地方\n",
    "智商不夠 好 痛苦_(:з」∠)_\n",
    "喜歡你的笑容 _(:з」∠)_\n",
    "想哭\n",
    "今天天氣不好，打雷又下雨\n",
    "今天天氣很好耶！\n",
    "人生好困難怎麼辦\n",
    "!\n",
    "！\n",
    "把你心情哼成歌\n",
    "```"
   ]
  },
  {
   "cell_type": "code",
   "execution_count": 61,
   "metadata": {},
   "outputs": [],
   "source": [
    "import model\n",
    "model.use_cuda = False\n",
    "\n",
    "tr = model.Translator()\n",
    "#sd = model.load('/home/cwtsai/class/computational-information/test.para')\n",
    "sd = model.load('model/test.para')\n",
    "tr.load_state_dict(sd)\n",
    "midi = tr.translate('把你心情哼成歌')\n",
    "filename = 'test_translate.mid'\n",
    "with open(filename, 'wb') as f:\n",
    "    midi.writeFile(f)"
   ]
  },
  {
   "cell_type": "code",
   "execution_count": 4,
   "metadata": {
    "scrolled": true
   },
   "outputs": [
    {
     "data": {
      "text/html": [
       "<button onClick=MIDIjs.play(\"test_translate.mid\")>Play test_translate.mid</button>"
      ]
     },
     "metadata": {},
     "output_type": "display_data"
    },
    {
     "data": {
      "text/html": [
       "<button onClick=MIDIjs.stop()>Stop</button>"
      ]
     },
     "metadata": {},
     "output_type": "display_data"
    }
   ],
   "source": [
    "play(filename)\n",
    "stop()\n",
    "#download(filename)"
   ]
  },
  {
   "cell_type": "markdown",
   "metadata": {},
   "source": [
    "# Chunk midi"
   ]
  },
  {
   "cell_type": "code",
   "execution_count": null,
   "metadata": {
    "collapsed": true
   },
   "outputs": [],
   "source": [
    "import dataset"
   ]
  },
  {
   "cell_type": "code",
   "execution_count": null,
   "metadata": {
    "collapsed": true
   },
   "outputs": [],
   "source": [
    "import pandas as pd"
   ]
  },
  {
   "cell_type": "code",
   "execution_count": null,
   "metadata": {
    "collapsed": true
   },
   "outputs": [],
   "source": [
    "data = pd.read_json('data/valid.jsonl', lines=True)\n",
    "data[data.name == 'IF'][['id', 'name', 'tempo', 'note']]"
   ]
  },
  {
   "cell_type": "code",
   "execution_count": null,
   "metadata": {
    "collapsed": true
   },
   "outputs": [],
   "source": [
    "n = 165\n",
    "vec = data.note[n], data.tempo[n]\n",
    "midi = dataset.vec2midi(vec)\n",
    "filename_chunk = 'test.mid'\n",
    "with open(filename_chunk, 'wb') as f:\n",
    "    midi.writeFile(f)"
   ]
  },
  {
   "cell_type": "code",
   "execution_count": null,
   "metadata": {
    "collapsed": true,
    "scrolled": true
   },
   "outputs": [],
   "source": [
    "play(filename_chunk)\n",
    "play('data/raw/%s.mid' % data.name[n])\n",
    "stop()\n",
    "# download(filename_chunk)"
   ]
  },
  {
   "cell_type": "markdown",
   "metadata": {},
   "source": [
    "---"
   ]
  }
 ],
 "metadata": {
  "kernelspec": {
   "display_name": "Python SYF",
   "language": "python",
   "name": ".env"
  },
  "language_info": {
   "codemirror_mode": {
    "name": "ipython",
    "version": 3
   },
   "file_extension": ".py",
   "mimetype": "text/x-python",
   "name": "python",
   "nbconvert_exporter": "python",
   "pygments_lexer": "ipython3",
   "version": "3.5.3"
  }
 },
 "nbformat": 4,
 "nbformat_minor": 2
}
